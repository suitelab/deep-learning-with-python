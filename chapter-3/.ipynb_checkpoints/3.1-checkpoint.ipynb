{
 "cells": [
  {
   "cell_type": "markdown",
   "metadata": {},
   "source": [
    "# 신경망의 구조"
   ]
  },
  {
   "cell_type": "markdown",
   "metadata": {},
   "source": [
    "- 층\n",
    "- 모델\n",
    "- 손실 함수\n",
    "- 옵티마이저"
   ]
  },
  {
   "cell_type": "markdown",
   "metadata": {},
   "source": [
    "## 층\n",
    "하나 이상의 텐서를 입력 받아 하나 이상의 텐서를 출력하는 데이터 처리 모듈  \n",
    "Flatten, Pooling, Dropout 층을 제외한 대부분의 층은 가중치를 가진다\n",
    "### 간단한 2D 벡터 데이터\n",
    "- 완전 연결 층(Fully connected layer)\n",
    "- 밀집 층(Dense layer)\n",
    "- 밀집 연결 층(Densely connected layer)\n",
    "\n",
    "### 3D 텐서로 저장된 시퀀스 데이터\n",
    "- LSTM\n",
    "- 순환 층(Recurrent layer)\n",
    "\n",
    "### 4D 텐서로 저장된 이미지 데이터\n",
    "- 2D 합성곱 층(Convolution layer)"
   ]
  },
  {
   "cell_type": "markdown",
   "metadata": {},
   "source": [
    "### 층 호환성(layer compatibility)\n",
    "각 층이 특정 크기의 입력텐서만 받고 특정 크기의 출력 텐서를 반환한다"
   ]
  },
  {
   "cell_type": "code",
   "execution_count": 2,
   "metadata": {},
   "outputs": [
    {
     "name": "stderr",
     "output_type": "stream",
     "text": [
      "C:\\ProgramData\\Anaconda3\\lib\\site-packages\\h5py\\__init__.py:36: FutureWarning: Conversion of the second argument of issubdtype from `float` to `np.floating` is deprecated. In future, it will be treated as `np.float64 == np.dtype(float).type`.\n",
      "  from ._conv import register_converters as _register_converters\n",
      "Using TensorFlow backend.\n"
     ]
    }
   ],
   "source": [
    "from keras import layers\n",
    "\n",
    "layer = layers.Dense(32, input_shape=(784,)) # 32개의 유닛으로 된 밀집 층"
   ]
  },
  {
   "cell_type": "code",
   "execution_count": 4,
   "metadata": {},
   "outputs": [],
   "source": [
    "from keras import models\n",
    "from keras import layers\n",
    "\n",
    "model = models.Sequential()\n",
    "model.add(layers.Dense(32, input_shape=(784,)))\n",
    "model.add(layers.Dense(10))"
   ]
  },
  {
   "cell_type": "markdown",
   "metadata": {},
   "source": [
    "위의 예제 처럼 뒤에 add 되는 층들은 앞선 층의 출력 크기를 입력 크기로 채택한다"
   ]
  },
  {
   "cell_type": "markdown",
   "metadata": {},
   "source": [
    "## 모델\n",
    "딥러닝 모델은 층으로 만든 비순환 유향 그래프(Directed Acyclic Graph, DAG)이다.  \n",
    "하나의 입력을 하나의 출력으로 매핑하는 층을 순서대로 쌓는 것\n",
    "- 가지(branch)가 2개인 네트워크\n",
    "- 출력이 여러 개인 네트워크\n",
    "- 인셉션(Inception) 블록\n",
    "\n",
    "네트워크 구조는 가설 공간(hypothesis space)을 정의한다.  \n",
    "네트워크 구조를 선택함으로써 가설공간을 입력 데이터에서 출력 데이터로 매핑하는 일련의 특정 텐서 연산으로 제한하게 된다."
   ]
  },
  {
   "cell_type": "markdown",
   "metadata": {},
   "source": [
    "## 손실 함수와 옵티마이저\n",
    "- 손실함수 : 훈련하는 동안 최소화 될 값\n",
    "- 옵티마이저 : 손실 함수를 기반으로 네트워크가 어떻게 업데이트 될지 결정, 특정 종류의 확률적 경사 하강법을 구현\n",
    "\n",
    "여러 개의 출력을 내는 신경망은 여러 개의 손실 함수를 가질 수 있다(출력당 하나씩).  \n",
    "경사 하강법 과정은 하나의 스칼라 손실 값을 기준으로 한다.  \n",
    "손실이 여러 개인 네트워크에서는 모든 손실이(평균을 내서) 하나의 스칼라 양으로 합쳐짐\n",
    "\n",
    "문제에 맞는 올바른 목적 함수를 선택하지 않으면 네트워크가 손실을 최소화하기 위해 편법을 사용할 수 있다.  \n",
    "\n",
    "분류, 회귀, 시퀀스 예측같은 일반적인 문제에서는 올바른 손실 함수를 선택하는 지침이 있다.  \n",
    "2개의 클래스가 있는 분류 문제는 이진 크로스엔트로피  \n",
    "회귀 문제에는 평균 제곱 오차  \n",
    "시퀀스 학습 문제에는 CTC(Connection Temporal Classification)등을 사용"
   ]
  }
 ],
 "metadata": {
  "kernelspec": {
   "display_name": "Python 3",
   "language": "python",
   "name": "python3"
  },
  "language_info": {
   "codemirror_mode": {
    "name": "ipython",
    "version": 3
   },
   "file_extension": ".py",
   "mimetype": "text/x-python",
   "name": "python",
   "nbconvert_exporter": "python",
   "pygments_lexer": "ipython3",
   "version": "3.6.5"
  }
 },
 "nbformat": 4,
 "nbformat_minor": 2
}
